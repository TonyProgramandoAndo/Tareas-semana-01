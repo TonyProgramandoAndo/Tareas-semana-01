{
  "nbformat": 4,
  "nbformat_minor": 0,
  "metadata": {
    "colab": {
      "provenance": [],
      "authorship_tag": "ABX9TyMLBAi/WVZmgxDB+LooT5Wl",
      "include_colab_link": true
    },
    "kernelspec": {
      "name": "python3",
      "display_name": "Python 3"
    },
    "language_info": {
      "name": "python"
    }
  },
  "cells": [
    {
      "cell_type": "markdown",
      "metadata": {
        "id": "view-in-github",
        "colab_type": "text"
      },
      "source": [
        "<a href=\"https://colab.research.google.com/github/TonyProgramandoAndo/Tareas-semana-01/blob/main/Practica_3_Creaci%C3%B3n_de_un_arreglo_y_operaciones_b%C3%A1sicas_COMPLETA.ipynb\" target=\"_parent\"><img src=\"https://colab.research.google.com/assets/colab-badge.svg\" alt=\"Open In Colab\"/></a>"
      ]
    },
    {
      "cell_type": "markdown",
      "source": [
        "**Creación de arreglos:**\n",
        "\n",
        "Ejercicio: Crea un arreglo de 25 elementos con valores enteros aleatorios entre 0 y 100"
      ],
      "metadata": {
        "id": "jaAduQsamiMf"
      }
    },
    {
      "cell_type": "code",
      "execution_count": 2,
      "metadata": {
        "colab": {
          "base_uri": "https://localhost:8080/"
        },
        "id": "h15-r0qzmVRs",
        "outputId": "e03912d5-0c15-4a67-ffe0-4c2f03cace46"
      },
      "outputs": [
        {
          "output_type": "stream",
          "name": "stdout",
          "text": [
            "[93 17 59 98 74 73 22 73 79 83 17 20  4 39 60 15 73 71 82 74 69 14 27 63\n",
            " 59]\n"
          ]
        }
      ],
      "source": [
        "import numpy as np\n",
        "arr = np.random.randint(0, 101, 25)\n",
        "print(arr)"
      ]
    },
    {
      "cell_type": "markdown",
      "source": [
        "1.   Multiplica cada elemento por 3.\n",
        "2.   Suma 15 a cada elemento.\n",
        "3. Divide cada elemento por 2."
      ],
      "metadata": {
        "id": "ya98wlD7mhGT"
      }
    },
    {
      "cell_type": "code",
      "source": [
        "arr = np.random.randint(0, 101, 25)\n",
        "print(\"Original:\", arr)\n",
        "print(\"Multiplicado por 3:\", arr * 3)\n",
        "print(\"Suma de 15:\", arr + 15)\n",
        "print(\"División por 2:\", arr / 2)"
      ],
      "metadata": {
        "colab": {
          "base_uri": "https://localhost:8080/"
        },
        "id": "HgcckDaPmvki",
        "outputId": "538ec8c5-92fa-4044-a85e-d02bd8d3d5ce"
      },
      "execution_count": null,
      "outputs": [
        {
          "output_type": "stream",
          "name": "stdout",
          "text": [
            "Original: [ 28  48  91  73  76  45  47  80  57  35  62  71  73  54  99  20  60  64\n",
            "  28 100  81  97  51  61  58]\n",
            "Multiplicado por 3: [ 84 144 273 219 228 135 141 240 171 105 186 213 219 162 297  60 180 192\n",
            "  84 300 243 291 153 183 174]\n",
            "Suma de 15: [ 43  63 106  88  91  60  62  95  72  50  77  86  88  69 114  35  75  79\n",
            "  43 115  96 112  66  76  73]\n",
            "División por 2: [14.  24.  45.5 36.5 38.  22.5 23.5 40.  28.5 17.5 31.  35.5 36.5 27.\n",
            " 49.5 10.  30.  32.  14.  50.  40.5 48.5 25.5 30.5 29. ]\n"
          ]
        }
      ]
    },
    {
      "cell_type": "markdown",
      "source": [
        "**Ssegmentación:**\n",
        "\n",
        "1. Los elementos separados en 5 posiciones."
      ],
      "metadata": {
        "id": "ZxSQtTonnJPc"
      }
    },
    {
      "cell_type": "code",
      "source": [
        "arr = np.random.randint(1, 101, 25)\n",
        "print(\"Original:\", arr)\n",
        "print(\"Elementos separados en 5 posiciones:\", arr[::5])\n"
      ],
      "metadata": {
        "colab": {
          "base_uri": "https://localhost:8080/"
        },
        "id": "VbUCtl5cnQ5c",
        "outputId": "38dc6f76-2b6f-4aa0-dcdb-ffd8aa566962"
      },
      "execution_count": null,
      "outputs": [
        {
          "output_type": "stream",
          "name": "stdout",
          "text": [
            "Original: [83 23 11 16 84 35 85 82  6 54 44 73 93 63 38 77 29 49 74  2 46  5 40 31\n",
            " 56]\n",
            "Elementos separados en 5 posiciones: [83 35 44 77 46]\n"
          ]
        }
      ]
    },
    {
      "cell_type": "markdown",
      "source": [
        "** Datos estadisticos **"
      ],
      "metadata": {
        "id": "lXJWFQ3WnyMK"
      }
    },
    {
      "cell_type": "code",
      "source": [
        "arr = np.random.randint(1, 101, 25)\n",
        "print(\"Original:\", arr)\n",
        "print(\"Media:\", np.mean(arr))\n",
        "print(\"Mediana:\", np.median(arr))\n",
        "print(\"Desviación estándar:\", np.std(arr))\n",
        "print(\"Varianza:\", np.var(arr))"
      ],
      "metadata": {
        "colab": {
          "base_uri": "https://localhost:8080/"
        },
        "id": "DgucA5Hin4MV",
        "outputId": "cc88d1af-b2b1-4dae-91e4-188f21e4b908"
      },
      "execution_count": null,
      "outputs": [
        {
          "output_type": "stream",
          "name": "stdout",
          "text": [
            "Original: [ 47  96  49  74  53  39  73 100  14   8  91  10  19  79  28  82   1  80\n",
            "  17  66  63  70  15   4  67]\n",
            "Media: 49.8\n",
            "Mediana: 53.0\n",
            "Desviación estándar: 31.212817879839047\n",
            "Varianza: 974.24\n"
          ]
        }
      ]
    },
    {
      "cell_type": "markdown",
      "source": [
        "**Operaciones con matrices:**\n",
        "\n",
        "Ejercicio: Crea dos matrices de 3x3 con números aleatorios. Luego:\n",
        "1. Suma las dos matrices.\n",
        "2. Realiza una multiplicación matricial."
      ],
      "metadata": {
        "id": "W3mdKmCIGTLP"
      }
    },
    {
      "cell_type": "code",
      "source": [
        "A = np.random.randint(1, 50, (3, 3))\n",
        "B = np.random.randint(1, 50, (3, 3))\n",
        "print(\"Matriz A:\", A)\n",
        "print(\"Matriz B:\", B)\n",
        "print(\"Suma de matrices:\", A + B)\n",
        "print(\"Multiplicación matricial:\", np.dot(A, B))"
      ],
      "metadata": {
        "colab": {
          "base_uri": "https://localhost:8080/"
        },
        "id": "4mRoXuSDGWIb",
        "outputId": "3812be58-7cb8-4345-80f4-2ac57f7249a7"
      },
      "execution_count": 3,
      "outputs": [
        {
          "output_type": "stream",
          "name": "stdout",
          "text": [
            "Matriz A: [[ 9 30 42]\n",
            " [19 21 16]\n",
            " [19 38 16]]\n",
            "Matriz B: [[ 5 44 39]\n",
            " [29 40 29]\n",
            " [16 33 22]]\n",
            "Suma de matrices: [[14 74 81]\n",
            " [48 61 45]\n",
            " [35 71 38]]\n",
            "Multiplicación matricial: [[1587 2982 2145]\n",
            " [ 960 2204 1702]\n",
            " [1453 2884 2195]]\n"
          ]
        }
      ]
    },
    {
      "cell_type": "markdown",
      "source": [
        "** Mascaras booleanas**"
      ],
      "metadata": {
        "id": "_2r9KhJRpLsN"
      }
    },
    {
      "cell_type": "code",
      "source": [
        "arr = np.random.randint(1, 101, 25)\n",
        "print(\"Original:\", arr)\n",
        "mask = arr > 80\n",
        "print(\"Elementos mayores que 80:\", arr[mask])"
      ],
      "metadata": {
        "colab": {
          "base_uri": "https://localhost:8080/"
        },
        "id": "qYV8hLYmpOSu",
        "outputId": "e2db6810-ead1-491c-d2cd-e987c3125c23"
      },
      "execution_count": null,
      "outputs": [
        {
          "output_type": "stream",
          "name": "stdout",
          "text": [
            "Original: [85 17 40 49 51 21 97 80 27 80 12  2 74 75  2  5 74 74 73 88 82 60 13 23\n",
            " 46]\n",
            "Elementos mayores que 80: [85 97 88 82]\n"
          ]
        }
      ]
    },
    {
      "cell_type": "markdown",
      "source": [
        " **Reshape y redimensionamiento:**\n",
        "\n",
        "Ejercicio: Crea un arreglo unidimensional con 40 elementos. Luego, redimensionalo a una matriz de 5x8."
      ],
      "metadata": {
        "id": "6WycoEj_p-fr"
      }
    },
    {
      "cell_type": "code",
      "source": [
        "arr = np.arange(1, 41)\n",
        "print(\"Arreglo original:\", arr)\n",
        "arr_reshape = arr.reshape(5, 8)\n",
        "print(\"Matriz 5x8:\", arr_reshape)"
      ],
      "metadata": {
        "colab": {
          "base_uri": "https://localhost:8080/"
        },
        "id": "O_dpewtoqBPn",
        "outputId": "f2e69ce6-a832-4af2-8c4d-8db7bc563ecf"
      },
      "execution_count": null,
      "outputs": [
        {
          "output_type": "stream",
          "name": "stdout",
          "text": [
            "Arreglo original: [ 1  2  3  4  5  6  7  8  9 10 11 12 13 14 15 16 17 18 19 20 21 22 23 24\n",
            " 25 26 27 28 29 30 31 32 33 34 35 36 37 38 39 40]\n",
            "Matriz 5x8: [[ 1  2  3  4  5  6  7  8]\n",
            " [ 9 10 11 12 13 14 15 16]\n",
            " [17 18 19 20 21 22 23 24]\n",
            " [25 26 27 28 29 30 31 32]\n",
            " [33 34 35 36 37 38 39 40]]\n"
          ]
        }
      ]
    },
    {
      "cell_type": "markdown",
      "source": [
        "**Concatenación y apilamiento de arreglos:**\n",
        "\n",
        "Ejercicio: Crea tres arreglos unidimensionales de 5 elementos. Concátalos y apílalos verticalmente."
      ],
      "metadata": {
        "id": "OjzSBOAfGqDO"
      }
    },
    {
      "cell_type": "code",
      "source": [
        "arr1 = np.array([11, 12, 13, 14, 15])\n",
        "arr2 = np.array([16, 17, 18, 19, 20])\n",
        "arr3= np.array([21, 22, 23, 24, 25])\n",
        "print(\"Concatenación horizontal:\", np.concatenate((arr1, arr2, arr3)))\n",
        "print(\"Apilamiento vertical:\", np.vstack((arr1, arr2, arr3)))\n"
      ],
      "metadata": {
        "colab": {
          "base_uri": "https://localhost:8080/"
        },
        "id": "U4e5YSDwGsYs",
        "outputId": "19703e46-2c7a-4d66-b6bd-cf3b486714a9"
      },
      "execution_count": 6,
      "outputs": [
        {
          "output_type": "stream",
          "name": "stdout",
          "text": [
            "Concatenación horizontal: [11 12 13 14 15 16 17 18 19 20 21 22 23 24 25]\n",
            "Apilamiento vertical: [[11 12 13 14 15]\n",
            " [16 17 18 19 20]\n",
            " [21 22 23 24 25]]\n"
          ]
        }
      ]
    },
    {
      "cell_type": "markdown",
      "source": [
        "# **Manejo de valores NaN (Not a Number):**\n",
        "\n",
        "Ejercicio: Crea un arreglo de 20 elementos con valores NaN y reemplázalos por el valor 0"
      ],
      "metadata": {
        "id": "o1AiXOk3qaqe"
      }
    },
    {
      "cell_type": "code",
      "source": [
        "arr = np.array([1, 2, np.nan, 4, np.nan, 6,7, np.nan,9,10, np.nan , np.nan , np.nan ,14,15,16,17, np.nan, np.nan,20])\n",
        "print(\"Original con NaN:\", arr)\n",
        "arr[np.isnan(arr)] = 0\n",
        "print(\"Sin NaN:\", arr)"
      ],
      "metadata": {
        "colab": {
          "base_uri": "https://localhost:8080/"
        },
        "id": "YezMC3rFqfJr",
        "outputId": "d47a05a5-5d49-424d-fbb9-7bbe94343d10"
      },
      "execution_count": null,
      "outputs": [
        {
          "output_type": "stream",
          "name": "stdout",
          "text": [
            "Original con NaN: [ 1.  2. nan  4. nan  6.  7. nan  9. 10. nan nan nan 14. 15. 16. 17. nan\n",
            " nan 20.]\n",
            "Sin NaN: [ 1.  2.  0.  4.  0.  6.  7.  0.  9. 10.  0.  0.  0. 14. 15. 16. 17.  0.\n",
            "  0. 20.]\n"
          ]
        }
      ]
    },
    {
      "cell_type": "markdown",
      "source": [
        "**Generación de matriz a partir de distribucion normal y desviacion estandar**\n",
        "\n",
        "Ejercicio: Crea una matriz 10x8 con números aleatorios provenientes de una distribución normal con media 1 y desviación estándar 3."
      ],
      "metadata": {
        "id": "tQHn-ocRrQjx"
      }
    },
    {
      "cell_type": "code",
      "source": [
        "arr = np.random.normal(1, 3, (10, 8))\n",
        "print(\"Matriz con distribución normal:\", arr)"
      ],
      "metadata": {
        "colab": {
          "base_uri": "https://localhost:8080/"
        },
        "id": "_YqkwYhXrcgB",
        "outputId": "31a996af-2c53-4d5c-d300-5abcdf9587b4"
      },
      "execution_count": null,
      "outputs": [
        {
          "output_type": "stream",
          "name": "stdout",
          "text": [
            "Matriz con distribución normal: [[-1.99495223 -1.3887855  -3.39686074 -2.40689156 -0.96440327  6.57938656\n",
            "   0.49368939 -1.31642861]\n",
            " [ 0.72801776 -1.46467212  1.12863582 -1.43566976  0.89242327 -4.03195249\n",
            "   4.52554475  3.76854609]\n",
            " [-0.23746713  0.25529066  1.88127238 -1.63409486 -2.30792495  4.22026355\n",
            "   1.58986986 -1.01837715]\n",
            " [-1.75354992  0.53216846  6.50916049 -1.15806423 -1.1254722   3.33647202\n",
            "   0.2028904   5.01676373]\n",
            " [ 2.0937829   0.15128369  2.0188684   4.45601219  2.04841876  2.37078784\n",
            "  -1.14156934  4.94975473]\n",
            " [ 2.13485238  0.71368381 -0.1572682  -5.4163608   3.28127668 -1.24505482\n",
            "   1.24479314  2.61263935]\n",
            " [ 2.66639411  3.58598263  4.29635391  0.46482685 -6.06717853 -1.24286612\n",
            "   1.48950448 -3.15093283]\n",
            " [ 2.53216764 -1.92814147 -2.19298797  5.59730556  8.37915196  2.41366149\n",
            "   0.60290275  1.6444294 ]\n",
            " [ 2.01432688  2.62281921  0.89293603  6.29185469  2.8273758  -1.03028791\n",
            "  -0.70442259  5.56688825]\n",
            " [ 1.55667584  6.60224532  0.41901573 -0.60354228  4.09016579 -0.7525912\n",
            "   0.87104109  3.12287388]]\n"
          ]
        }
      ]
    },
    {
      "cell_type": "code",
      "source": [
        "from matplotlib import pyplot as plt\n",
        "plt.hist(arr, bins = [0, 2, 4, 6,\n",
        "\t\t\t\t\t8, 10])\n",
        "plt.title(\"Numpy Histogram\")\n",
        "\n",
        "# show plot\n",
        "plt.show()"
      ],
      "metadata": {
        "colab": {
          "base_uri": "https://localhost:8080/",
          "height": 452
        },
        "id": "qDTu7M-2r42G",
        "outputId": "124c1a6c-f4d3-4d72-d822-646986be00be"
      },
      "execution_count": null,
      "outputs": [
        {
          "output_type": "display_data",
          "data": {
            "text/plain": [
              "<Figure size 640x480 with 1 Axes>"
            ],
            "image/png": "[encoded data removed]"
          },
          "metadata": {}
        }
      ]
    },
    {
      "cell_type": "markdown",
      "source": [
        "**Suma acumulativa y producto acumulativo:**\n",
        "\n",
        "Ejercicio: Crea un arreglo y calcula la suma y el producto acumulativo de los elementos."
      ],
      "metadata": {
        "id": "YhK6hs2Dsmjq"
      }
    },
    {
      "cell_type": "code",
      "source": [
        "arr = np.random.randint(1, 101, 25)\n",
        "print(\"Arreglo original:\", arr)\n",
        "print(\"Suma acumulativa:\", np.cumsum(arr))\n",
        "print(\"Producto acumulativo:\", np.cumprod(arr))"
      ],
      "metadata": {
        "colab": {
          "base_uri": "https://localhost:8080/"
        },
        "id": "h85Yai6Hspq5",
        "outputId": "0a4b4973-1200-43ae-957c-07092f73da2a"
      },
      "execution_count": null,
      "outputs": [
        {
          "output_type": "stream",
          "name": "stdout",
          "text": [
            "Arreglo original: [92 38 57 27 68 98 21 20  2 89 76 96 80 73 45 49 90 81 55 26 41 58  3 59\n",
            " 16]\n",
            "Suma acumulativa: [  92  130  187  214  282  380  401  421  423  512  588  684  764  837\n",
            "  882  931 1021 1102 1157 1183 1224 1282 1285 1344 1360]\n",
            "Producto acumulativo: [                  92                 3496               199272\n",
            "              5380344            365863392          35854612416\n",
            "         752946860736       15058937214720       30117874429440\n",
            "     2680490824220160   203717302640732160  1110116979800735744\n",
            " -3424361984488898560  8275992164244127744  3484765916794716160\n",
            "  4732833259555127296  1679879664641769472  6943044320016465920\n",
            " -5514187946994958336  4205065967807496192  6387008016721379328\n",
            "  1511583495648968704  4534750486946906112 -9150882375775813632\n",
            "  1159834577263394816]\n"
          ]
        }
      ]
    },
    {
      "cell_type": "markdown",
      "source": [
        "Suma de matriz\n",
        "\n",
        "Ejercicio: Crea una matriz 3x3 y calcula la suma de los elementos por columna y por fila"
      ],
      "metadata": {
        "id": "qKOnJtELt2sL"
      }
    },
    {
      "cell_type": "code",
      "source": [
        "arr = np.random.randint(1, 101, (3, 3))\n",
        "print(\"Matriz original:\", arr)\n",
        "print(\"Suma por columna:\", np.sum(arr, axis=0))\n",
        "print(\"Suma por fila:\", np.sum(arr, axis=1))"
      ],
      "metadata": {
        "colab": {
          "base_uri": "https://localhost:8080/"
        },
        "id": "BGamqQBut6Yl",
        "outputId": "6f5956b8-84ae-4a4d-ccd3-3071309a4cf6"
      },
      "execution_count": null,
      "outputs": [
        {
          "output_type": "stream",
          "name": "stdout",
          "text": [
            "Matriz original: [[18 96 51]\n",
            " [81 12 56]\n",
            " [81 44 26]]\n",
            "Suma por columna: [180 152 133]\n",
            "Suma por fila: [165 149 151]\n"
          ]
        }
      ]
    },
    {
      "cell_type": "markdown",
      "source": [
        "** Cálculo de la inversa de una matriz:**\n",
        "\n",
        "Ejercicio: Crea una matriz de 2x2 invertible y calcula su inversa"
      ],
      "metadata": {
        "id": "WmESkxWfHUQj"
      }
    },
    {
      "cell_type": "code",
      "source": [
        "A = np.array([[7, 8], [9, 10]])\n",
        "print(\"Matriz A:\", A)\n",
        "A_inv = np.linalg.inv(A)\n",
        "print(\"Inversa de A:\", A_inv)"
      ],
      "metadata": {
        "colab": {
          "base_uri": "https://localhost:8080/"
        },
        "id": "GUrejYaUHWTg",
        "outputId": "0e453160-989d-4a1d-8061-b03c185448e0"
      },
      "execution_count": 7,
      "outputs": [
        {
          "output_type": "stream",
          "name": "stdout",
          "text": [
            "Matriz A: [[ 7  8]\n",
            " [ 9 10]]\n",
            "Inversa de A: [[-5.   4. ]\n",
            " [ 4.5 -3.5]]\n"
          ]
        }
      ]
    },
    {
      "cell_type": "markdown",
      "source": [
        "**Transposición de matrices:**\n",
        "\n",
        "Ejercicio: Crea una matriz 4x5 y luego realiza la transposición de la misma."
      ],
      "metadata": {
        "id": "6K16JVP8uUiC"
      }
    },
    {
      "cell_type": "code",
      "source": [
        "arr = np.array([[1, 2, 3, 4, 5], [6, 7, 8, 9, 10],[11, 12, 13, 14, 15], [16, 17, 18, 19, 20]])\n",
        "print(\"Matriz original:\", arr)\n",
        "print(\"Matriz transpuesta:\", arr.T)"
      ],
      "metadata": {
        "colab": {
          "base_uri": "https://localhost:8080/"
        },
        "id": "zGbiJZLcuY-Y",
        "outputId": "4f2fb758-84f7-4285-baf2-cb786405fb3e"
      },
      "execution_count": null,
      "outputs": [
        {
          "output_type": "stream",
          "name": "stdout",
          "text": [
            "Matriz original: [[ 1  2  3  4  5]\n",
            " [ 6  7  8  9 10]\n",
            " [11 12 13 14 15]\n",
            " [16 17 18 19 20]]\n",
            "Matriz transpuesta: [[ 1  6 11 16]\n",
            " [ 2  7 12 17]\n",
            " [ 3  8 13 18]\n",
            " [ 4  9 14 19]\n",
            " [ 5 10 15 20]]\n"
          ]
        }
      ]
    },
    {
      "cell_type": "markdown",
      "source": [
        "**Indexación avanzada (usando np.ix_):**\n",
        "\n",
        "Ejercicio: Usa la función np.ix_ para realizar una indexación avanzada y extraer submatrices."
      ],
      "metadata": {
        "id": "M3H2mBp9Hn7N"
      }
    },
    {
      "cell_type": "code",
      "source": [
        "arr = np.random.randint(1, 50, (4, 4))\n",
        "print(\"Matriz original:\", arr)\n",
        "row_indices = np.array([0, 2])\n",
        "col_indices = np.array([1, 3])\n",
        "print(\"Submatriz usando np.ix_:\", arr[np.ix_(row_indices, col_indices)])"
      ],
      "metadata": {
        "colab": {
          "base_uri": "https://localhost:8080/"
        },
        "id": "dLR5v8SmHqTy",
        "outputId": "7a1fecd6-5680-4dfd-bf76-dcd91d1a53a0"
      },
      "execution_count": 8,
      "outputs": [
        {
          "output_type": "stream",
          "name": "stdout",
          "text": [
            "Matriz original: [[ 8  8 24 32]\n",
            " [49 13 39 21]\n",
            " [12  6 18  5]\n",
            " [45 28 25 43]]\n",
            "Submatriz usando np.ix_: [[ 8 32]\n",
            " [ 6  5]]\n"
          ]
        }
      ]
    },
    {
      "cell_type": "markdown",
      "source": [
        "**Uso de np.unique:**\n",
        "\n",
        "Ejercicio: Crea un arreglo con algunos elementos repetidos y usa np.unique para obtener los elementos únicos."
      ],
      "metadata": {
        "id": "q8ULxINYvFu8"
      }
    },
    {
      "cell_type": "code",
      "source": [
        "arr = np.array([1, 2, 2, 3, 4, 4, 5,5 , 5 ,7, 9, 15, 20, 18, 18, 15, 10, 2])\n",
        "print(\"Elementos únicos:\", np.unique(arr))"
      ],
      "metadata": {
        "colab": {
          "base_uri": "https://localhost:8080/"
        },
        "id": "kwoOKuwSvIU5",
        "outputId": "a993eceb-330e-469d-f434-e2b81e1fb39a"
      },
      "execution_count": null,
      "outputs": [
        {
          "output_type": "stream",
          "name": "stdout",
          "text": [
            "Elementos únicos: [ 1  2  3  4  5  7  9 10 15 18 20]\n"
          ]
        }
      ]
    }
  ]
}